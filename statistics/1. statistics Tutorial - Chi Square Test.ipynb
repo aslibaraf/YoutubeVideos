{
 "cells": [
  {
   "cell_type": "code",
   "execution_count": 2,
   "metadata": {},
   "outputs": [
    {
     "data": {
      "text/html": [
       "<div>\n",
       "<style scoped>\n",
       "    .dataframe tbody tr th:only-of-type {\n",
       "        vertical-align: middle;\n",
       "    }\n",
       "\n",
       "    .dataframe tbody tr th {\n",
       "        vertical-align: top;\n",
       "    }\n",
       "\n",
       "    .dataframe thead th {\n",
       "        text-align: right;\n",
       "    }\n",
       "</style>\n",
       "<table border=\"1\" class=\"dataframe\">\n",
       "  <thead>\n",
       "    <tr style=\"text-align: right;\">\n",
       "      <th></th>\n",
       "      <th>Category</th>\n",
       "      <th>Value</th>\n",
       "    </tr>\n",
       "  </thead>\n",
       "  <tbody>\n",
       "    <tr>\n",
       "      <th>0</th>\n",
       "      <td>e</td>\n",
       "      <td>Elephant</td>\n",
       "    </tr>\n",
       "    <tr>\n",
       "      <th>1</th>\n",
       "      <td>d</td>\n",
       "      <td>Dog</td>\n",
       "    </tr>\n",
       "    <tr>\n",
       "      <th>2</th>\n",
       "      <td>c</td>\n",
       "      <td>Cat</td>\n",
       "    </tr>\n",
       "    <tr>\n",
       "      <th>3</th>\n",
       "      <td>c</td>\n",
       "      <td>Cat</td>\n",
       "    </tr>\n",
       "    <tr>\n",
       "      <th>4</th>\n",
       "      <td>c</td>\n",
       "      <td>Cat</td>\n",
       "    </tr>\n",
       "  </tbody>\n",
       "</table>\n",
       "</div>"
      ],
      "text/plain": [
       "  Category     Value\n",
       "0        e  Elephant\n",
       "1        d       Dog\n",
       "2        c       Cat\n",
       "3        c       Cat\n",
       "4        c       Cat"
      ]
     },
     "execution_count": 2,
     "metadata": {},
     "output_type": "execute_result"
    }
   ],
   "source": [
    "import pandas as pd\n",
    "import numpy as np\n",
    "\n",
    "category_mapping = {\n",
    "    'a': 'Apple',\n",
    "    'b': 'Bat',\n",
    "    'c': 'Cat',\n",
    "    'd': 'Dog',\n",
    "    'e': 'Elephant'\n",
    "}\n",
    "\n",
    "num_rows = 1000\n",
    "categories = np.random.choice(list(category_mapping.keys()), num_rows)\n",
    "\n",
    "values = [category_mapping[cat] for cat in categories]\n",
    "\n",
    "df = pd.DataFrame({'Category': categories, 'Value': values})\n",
    "\n",
    "df.head()"
   ]
  },
  {
   "attachments": {
    "image-2.png": {
     "image/png": "[encoded data removed]"
    }
   },
   "cell_type": "markdown",
   "metadata": {},
   "source": [
    "The chi-square statistic measures the independence between categorical variables. The formula for the chi-square statistic in the context of a contingency table is:\n",
    "\n",
    "![image-2.png](attachment:image-2.png) \n",
    "​\n",
    " \n",
    "Where:\n",
    "- \\( \\chi^2 \\) is the chi-square statistic,\n",
    "- \\( O_{ij} \\) is the observed frequency in cell \\( (i, j) \\) of the contingency table,\n",
    "- \\( E_{ij} \\) is the expected frequency in cell \\( (i, j) \\) under the assumption that the null hypothesis is true.\n",
    "\n",
    "\\[ \\chi^2 = \\sum \\frac{(O_{ij} - E_{ij})^2}{E_{ij}} \\]\n"
   ]
  },
  {
   "cell_type": "code",
   "execution_count": null,
   "metadata": {},
   "outputs": [],
   "source": []
  },
  {
   "cell_type": "markdown",
   "metadata": {},
   "source": [
    "* Null Hypothesis (H0): There is no significant association between the two categorical variables.\n",
    "\n",
    "* Alternative Hypothesis (H1): There is a significant association between the two categorical variables."
   ]
  },
  {
   "cell_type": "code",
   "execution_count": 4,
   "metadata": {},
   "outputs": [
    {
     "name": "stdout",
     "output_type": "stream",
     "text": [
      "Value     Apple  Bat  Cat  Dog  Elephant\n",
      "Category                                \n",
      "a           193    0    0    0         0\n",
      "b             0  201    0    0         0\n",
      "c             0    0  198    0         0\n",
      "d             0    0    0  210         0\n",
      "e             0    0    0    0       198\n"
     ]
    },
    {
     "data": {
      "text/plain": [
       "(3999.999999999999,\n",
       " 0.0,\n",
       " 16,\n",
       " array([[37.249, 38.793, 38.214, 40.53 , 38.214],\n",
       "        [38.793, 40.401, 39.798, 42.21 , 39.798],\n",
       "        [38.214, 39.798, 39.204, 41.58 , 39.204],\n",
       "        [40.53 , 42.21 , 41.58 , 44.1  , 41.58 ],\n",
       "        [38.214, 39.798, 39.204, 41.58 , 39.204]]))"
      ]
     },
     "execution_count": 4,
     "metadata": {},
     "output_type": "execute_result"
    }
   ],
   "source": [
    "from scipy.stats import chi2_contingency\n",
    "contingency_table = pd.crosstab(df['Category'], df['Value'])\n",
    "print(contingency_table)\n",
    "# Performing the chi-square test\n",
    "chi2, p, dof, expected = chi2_contingency(contingency_table)\n",
    "\n",
    "chi2, p, dof, expected"
   ]
  },
  {
   "cell_type": "code",
   "execution_count": 14,
   "metadata": {},
   "outputs": [
    {
     "data": {
      "text/html": [
       "<div>\n",
       "<style scoped>\n",
       "    .dataframe tbody tr th:only-of-type {\n",
       "        vertical-align: middle;\n",
       "    }\n",
       "\n",
       "    .dataframe tbody tr th {\n",
       "        vertical-align: top;\n",
       "    }\n",
       "\n",
       "    .dataframe thead th {\n",
       "        text-align: right;\n",
       "    }\n",
       "</style>\n",
       "<table border=\"1\" class=\"dataframe\">\n",
       "  <thead>\n",
       "    <tr style=\"text-align: right;\">\n",
       "      <th></th>\n",
       "      <th>Category</th>\n",
       "      <th>Value</th>\n",
       "    </tr>\n",
       "  </thead>\n",
       "  <tbody>\n",
       "    <tr>\n",
       "      <th>0</th>\n",
       "      <td>c</td>\n",
       "      <td>Cat</td>\n",
       "    </tr>\n",
       "    <tr>\n",
       "      <th>1</th>\n",
       "      <td>a</td>\n",
       "      <td>Apple</td>\n",
       "    </tr>\n",
       "    <tr>\n",
       "      <th>2</th>\n",
       "      <td>a</td>\n",
       "      <td>Apple</td>\n",
       "    </tr>\n",
       "    <tr>\n",
       "      <th>3</th>\n",
       "      <td>a</td>\n",
       "      <td>Bat</td>\n",
       "    </tr>\n",
       "    <tr>\n",
       "      <th>4</th>\n",
       "      <td>b</td>\n",
       "      <td>Elephant</td>\n",
       "    </tr>\n",
       "  </tbody>\n",
       "</table>\n",
       "</div>"
      ],
      "text/plain": [
       "  Category     Value\n",
       "0        c       Cat\n",
       "1        a     Apple\n",
       "2        a     Apple\n",
       "3        a       Bat\n",
       "4        b  Elephant"
      ]
     },
     "execution_count": 14,
     "metadata": {},
     "output_type": "execute_result"
    }
   ],
   "source": [
    "categories = ['a', 'b', 'c', 'd', 'e']\n",
    "values = ['Apple', 'Bat', 'Cat', 'Dog', 'Elephant']\n",
    "\n",
    "# Create a DataFrame with 1000 rows and random selection of categories and values\n",
    "num_rows = 1000\n",
    "random_categories = np.random.choice(categories, num_rows)\n",
    "random_values = np.random.choice(values, num_rows)\n",
    "\n",
    "# Create the DataFrame\n",
    "df_random_both = pd.DataFrame({'Category': random_categories, 'Value': random_values})\n",
    "\n",
    "# Display the first few rows of the DataFrame\n",
    "df_random_both.head()"
   ]
  },
  {
   "cell_type": "code",
   "execution_count": 15,
   "metadata": {},
   "outputs": [
    {
     "name": "stdout",
     "output_type": "stream",
     "text": [
      "Value     Apple  Bat  Cat  Dog  Elephant\n",
      "Category                                \n",
      "a            37   39   44   41        32\n",
      "b            35   42   43   47        39\n",
      "c            45   39   36   40        37\n",
      "d            37   37   32   41        48\n",
      "e            38   38   43   48        42\n"
     ]
    },
    {
     "data": {
      "text/plain": [
       "(8.77533666954696,\n",
       " 0.9223762213956626,\n",
       " 16,\n",
       " array([[37.056, 37.635, 38.214, 41.881, 38.214],\n",
       "        [39.552, 40.17 , 40.788, 44.702, 40.788],\n",
       "        [37.824, 38.415, 39.006, 42.749, 39.006],\n",
       "        [37.44 , 38.025, 38.61 , 42.315, 38.61 ],\n",
       "        [40.128, 40.755, 41.382, 45.353, 41.382]]))"
      ]
     },
     "execution_count": 15,
     "metadata": {},
     "output_type": "execute_result"
    }
   ],
   "source": [
    "contingency_table = pd.crosstab(df_random_both['Category'], df_random_both['Value'])\n",
    "print(contingency_table)\n",
    "# Performing the chi-square test\n",
    "chi2, p, dof, expected = chi2_contingency(contingency_table)\n",
    "\n",
    "chi2, p, dof, expected"
   ]
  },
  {
   "cell_type": "code",
   "execution_count": 16,
   "metadata": {},
   "outputs": [
    {
     "name": "stdout",
     "output_type": "stream",
     "text": [
      "Fail to reject the null hypothesis (H0): There is no significant association between the variables.\n"
     ]
    }
   ],
   "source": [
    "alpha = 0.05\n",
    "if p < alpha:\n",
    "    print(\"Reject the null hypothesis (H0): There is a significant association between the variables.\")\n",
    "else:\n",
    "    print(\"Fail to reject the null hypothesis (H0): There is no significant association between the variables.\")"
   ]
  },
  {
   "cell_type": "code",
   "execution_count": 18,
   "metadata": {},
   "outputs": [
    {
     "name": "stdout",
     "output_type": "stream",
     "text": [
      "  Category     Value\n",
      "0        c       Dog\n",
      "1        c       Cat\n",
      "2        d  Elephant\n",
      "3        a     Apple\n",
      "4        a     Apple\n"
     ]
    }
   ],
   "source": [
    "categories = ['a', 'b', 'c', 'd', 'e']\n",
    "specific_values = {'a': 'Apple', 'b': 'Bat'}\n",
    "random_values = ['Cat', 'Dog', 'Elephant']\n",
    "\n",
    "# Number of rows\n",
    "num_rows = 1000\n",
    "\n",
    "# Generate random categories\n",
    "random_categories = np.random.choice(categories, num_rows)\n",
    "\n",
    "# Initialize the list for random values\n",
    "values_assigned = []\n",
    "\n",
    "# Assign values based on the category\n",
    "for category in random_categories:\n",
    "    if category in specific_values:\n",
    "        values_assigned.append(specific_values[category])\n",
    "    else:\n",
    "        values_assigned.append(np.random.choice(random_values))\n",
    "\n",
    "# Create the DataFrame\n",
    "df_random_both = pd.DataFrame({'Category': random_categories, 'Value': values_assigned})\n",
    "\n",
    "# Display the first few rows of the DataFrame\n",
    "print(df_random_both.head())"
   ]
  },
  {
   "cell_type": "code",
   "execution_count": 19,
   "metadata": {},
   "outputs": [
    {
     "name": "stdout",
     "output_type": "stream",
     "text": [
      "Value     Apple  Bat  Cat  Dog  Elephant\n",
      "Category                                \n",
      "a           196    0    0    0         0\n",
      "b             0  211    0    0         0\n",
      "c             0    0   64   65        67\n",
      "d             0    0   71   49        75\n",
      "e             0    0   64   72        66\n"
     ]
    },
    {
     "data": {
      "text/plain": [
       "(2009.3516997273196,\n",
       " 0.0,\n",
       " 16,\n",
       " array([[38.416, 41.356, 39.004, 36.456, 40.768],\n",
       "        [41.356, 44.521, 41.989, 39.246, 43.888],\n",
       "        [38.416, 41.356, 39.004, 36.456, 40.768],\n",
       "        [38.22 , 41.145, 38.805, 36.27 , 40.56 ],\n",
       "        [39.592, 42.622, 40.198, 37.572, 42.016]]))"
      ]
     },
     "execution_count": 19,
     "metadata": {},
     "output_type": "execute_result"
    }
   ],
   "source": [
    "contingency_table = pd.crosstab(df_random_both['Category'], df_random_both['Value'])\n",
    "print(contingency_table)\n",
    "# Performing the chi-square test\n",
    "chi2, p, dof, expected = chi2_contingency(contingency_table)\n",
    "\n",
    "chi2, p, dof, expected"
   ]
  },
  {
   "cell_type": "code",
   "execution_count": 21,
   "metadata": {},
   "outputs": [
    {
     "name": "stdout",
     "output_type": "stream",
     "text": [
      "Chi-square test for 'a' vs 'b'\n",
      "Chi-square Statistic: 4.970006618342654\n",
      "P-value: 0.2903888722650252\n",
      "Degrees of Freedom: 4\n",
      "Expected Frequencies:\n",
      "[[40.976      33.096      40.45066667 44.65333333 37.824     ]\n",
      " [37.024      29.904      36.54933333 40.34666667 34.176     ]]\n",
      "Fail to reject the null hypothesis (H0): There is no significant association between 'a' and 'b'.\n"
     ]
    }
   ],
   "source": [
    "categories = ['a', 'b', 'c', 'd', 'e']\n",
    "values = ['Apple', 'Bat', 'Cat', 'Dog', 'Elephant']\n",
    "import scipy.stats as stats\n",
    "\n",
    "# Number of rows\n",
    "num_rows = 1000\n",
    "\n",
    "# Generate random categories and values\n",
    "random_categories = np.random.choice(categories, num_rows)\n",
    "random_values = np.random.choice(values, num_rows)\n",
    "\n",
    "# Create the DataFrame\n",
    "df_random_both = pd.DataFrame({'Category': random_categories, 'Value': random_values})\n",
    "\n",
    "# Filter the DataFrame for categories 'a' and 'b'\n",
    "df_ab = df_random_both[df_random_both['Category'].isin(['a', 'b'])]\n",
    "\n",
    "# Create a contingency table\n",
    "contingency_table_ab = pd.crosstab(df_ab['Category'], df_ab['Value'])\n",
    "\n",
    "# Perform the chi-square test\n",
    "chi2_ab, p_ab, dof_ab, expected_ab = stats.chi2_contingency(contingency_table_ab)\n",
    "\n",
    "# Print the results\n",
    "print(\"Chi-square test for 'a' vs 'b'\")\n",
    "print(f\"Chi-square Statistic: {chi2_ab}\")\n",
    "print(f\"P-value: {p_ab}\")\n",
    "print(f\"Degrees of Freedom: {dof_ab}\")\n",
    "print(\"Expected Frequencies:\")\n",
    "print(expected_ab)\n",
    "\n",
    "# Interpret the result\n",
    "alpha = 0.05\n",
    "if p_ab < alpha:\n",
    "    print(\"Reject the null hypothesis (H0): There is a significant association between 'a' and 'b'.\")\n",
    "else:\n",
    "    print(\"Fail to reject the null hypothesis (H0): There is no significant association between 'a' and 'b'.\")"
   ]
  },
  {
   "cell_type": "code",
   "execution_count": 22,
   "metadata": {},
   "outputs": [
    {
     "data": {
      "text/html": [
       "<div>\n",
       "<style scoped>\n",
       "    .dataframe tbody tr th:only-of-type {\n",
       "        vertical-align: middle;\n",
       "    }\n",
       "\n",
       "    .dataframe tbody tr th {\n",
       "        vertical-align: top;\n",
       "    }\n",
       "\n",
       "    .dataframe thead th {\n",
       "        text-align: right;\n",
       "    }\n",
       "</style>\n",
       "<table border=\"1\" class=\"dataframe\">\n",
       "  <thead>\n",
       "    <tr style=\"text-align: right;\">\n",
       "      <th>Value</th>\n",
       "      <th>Apple</th>\n",
       "      <th>Bat</th>\n",
       "      <th>Cat</th>\n",
       "      <th>Dog</th>\n",
       "      <th>Elephant</th>\n",
       "    </tr>\n",
       "    <tr>\n",
       "      <th>Category</th>\n",
       "      <th></th>\n",
       "      <th></th>\n",
       "      <th></th>\n",
       "      <th></th>\n",
       "      <th></th>\n",
       "    </tr>\n",
       "  </thead>\n",
       "  <tbody>\n",
       "    <tr>\n",
       "      <th>a</th>\n",
       "      <td>37</td>\n",
       "      <td>27</td>\n",
       "      <td>43</td>\n",
       "      <td>49</td>\n",
       "      <td>41</td>\n",
       "    </tr>\n",
       "    <tr>\n",
       "      <th>b</th>\n",
       "      <td>41</td>\n",
       "      <td>36</td>\n",
       "      <td>34</td>\n",
       "      <td>36</td>\n",
       "      <td>31</td>\n",
       "    </tr>\n",
       "  </tbody>\n",
       "</table>\n",
       "</div>"
      ],
      "text/plain": [
       "Value     Apple  Bat  Cat  Dog  Elephant\n",
       "Category                                \n",
       "a            37   27   43   49        41\n",
       "b            41   36   34   36        31"
      ]
     },
     "execution_count": 22,
     "metadata": {},
     "output_type": "execute_result"
    }
   ],
   "source": [
    "contingency_table_ab"
   ]
  },
  {
   "cell_type": "code",
   "execution_count": null,
   "metadata": {},
   "outputs": [],
   "source": []
  }
 ],
 "metadata": {
  "kernelspec": {
   "display_name": "admin2",
   "language": "python",
   "name": "python3"
  },
  "language_info": {
   "codemirror_mode": {
    "name": "ipython",
    "version": 3
   },
   "file_extension": ".py",
   "mimetype": "text/x-python",
   "name": "python",
   "nbconvert_exporter": "python",
   "pygments_lexer": "ipython3",
   "version": "3.10.13"
  }
 },
 "nbformat": 4,
 "nbformat_minor": 2
}
